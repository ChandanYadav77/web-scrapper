{
 "cells": [
  {
   "cell_type": "code",
   "execution_count": 1,
   "id": "104bd7aa",
   "metadata": {},
   "outputs": [],
   "source": [
    "import requests\n",
    "from bs4 import BeautifulSoup"
   ]
  },
  {
   "cell_type": "code",
   "execution_count": 2,
   "id": "cad737f6",
   "metadata": {},
   "outputs": [],
   "source": [
    "html = requests.get('https://www.imdb.com/chart/top/?ref_=nv_mv_250').content\n",
    "soup = BeautifulSoup(html, 'html.parser')"
   ]
  },
  {
   "cell_type": "code",
   "execution_count": 3,
   "id": "72dd6bcd",
   "metadata": {},
   "outputs": [],
   "source": [
    "rows = soup.tbody.find_all('tr', limit=5)"
   ]
  },
  {
   "cell_type": "code",
   "execution_count": 4,
   "id": "f9b625c4",
   "metadata": {},
   "outputs": [],
   "source": [
    "for row in rows:\n",
    "    column = row.find('td', 'titleColumn')\n",
    "    title = column.a.text\n",
    "    year = column.span.text"
   ]
  },
  {
   "cell_type": "code",
   "execution_count": 5,
   "id": "3999025a",
   "metadata": {},
   "outputs": [
    {
     "name": "stdout",
     "output_type": "stream",
     "text": [
      "The Shawshank Redemption (1994) - ['Drama']\n",
      "The Godfather (1972) - ['Crime', 'Drama']\n",
      "The Dark Knight (2008) - ['Action', 'Crime', 'Drama']\n",
      "The Godfather: Part II (1974) - ['Crime', 'Drama']\n",
      "12 Angry Men (1957) - ['Crime', 'Drama']\n"
     ]
    }
   ],
   "source": [
    "for row in rows:\n",
    "    column = row.find('td', 'titleColumn')\n",
    "    title = column.a.text\n",
    "    year = column.span.text\n",
    "    link = column.a['href']\n",
    "    \n",
    "    movie_page = requests.get(f'https://www.imdb.com/{link}').content\n",
    "    movie_soup = BeautifulSoup(movie_page, 'html.parser')\n",
    "    genre_list = movie_soup.find_all('a', 'sc-16ede01-3 bYNgQ ipc-chip ipc-chip--on-baseAlt')\n",
    "    genres = [genre.text for genre in genre_list]\n",
    "    print(f'{title} {year} - {genres}')"
   ]
  },
  {
   "cell_type": "code",
   "execution_count": null,
   "id": "94e545f5",
   "metadata": {},
   "outputs": [],
   "source": []
  }
 ],
 "metadata": {
  "kernelspec": {
   "display_name": "Python 3 (ipykernel)",
   "language": "python",
   "name": "python3"
  },
  "language_info": {
   "codemirror_mode": {
    "name": "ipython",
    "version": 3
   },
   "file_extension": ".py",
   "mimetype": "text/x-python",
   "name": "python",
   "nbconvert_exporter": "python",
   "pygments_lexer": "ipython3",
   "version": "3.9.7"
  }
 },
 "nbformat": 4,
 "nbformat_minor": 5
}
